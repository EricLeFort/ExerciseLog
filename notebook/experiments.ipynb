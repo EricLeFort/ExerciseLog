{
 "cells": [
  {
   "cell_type": "markdown",
   "metadata": {},
   "source": [
    "### Purpose\n",
    "\n",
    "The intent of this notebook is to serve as a rapid testing ground for new utilities. Any logic written here should migrate to the src/ directory as proper functions."
   ]
  },
  {
   "cell_type": "markdown",
   "metadata": {},
   "source": [
    "#### Import and Constants"
   ]
  },
  {
   "cell_type": "code",
   "execution_count": null,
   "metadata": {},
   "outputs": [],
   "source": [
    "from datetime import timedelta\n",
    "from typing import List\n",
    "\n",
    "import numpy as np\n",
    "import pandas as pd\n",
    "from scipy.ndimage import uniform_filter1d\n",
    "\n",
    "# Column names\n",
    "DATE = \"date\"\n",
    "WORKOUT_TYPE = \"workout_type\"\n",
    "DATA_DURATION = \"duration(HH:mm:ss)\"  # This is the human-readable version -- it'll be dropped during processing\n",
    "DURATION = \"duration(s)\"              # Convert the human-readable durations to seconds for computational simplicity\n",
    "DISTANCE = \"distance(km)\"\n",
    "STEPS = \"steps\"\n",
    "ELEVATION = \"elevation(m)\"\n",
    "AVG_HEART_RATE = \"avg_heart_rate\"\n",
    "MAX_HEART_RATE = \"max_heart_rate\"\n",
    "NOTES = \"notes\"\n",
    "LOCATION = \"location\"\n",
    "EXERCISE = \"exercise\"\n",
    "REPS = \"reps\"\n",
    "WEIGHT = \"weight(lbs)\"\n",
    "RATING = \"rating\""
   ]
  },
  {
   "cell_type": "markdown",
   "metadata": {},
   "source": [
    "#### Load Data"
   ]
  },
  {
   "cell_type": "code",
   "execution_count": null,
   "metadata": {},
   "outputs": [],
   "source": [
    "cardio_workouts = pd.read_csv(\"../data/cardio_workouts.csv\")\n",
    "weight_training_workouts = pd.read_csv(\"../data/weight_training_workouts.csv\")\n",
    "travel_days = pd.read_csv(\"../data/travel_days.csv\")\n",
    "weight_training_sets = pd.read_csv(\"../data/weight_training_sets.csv\")\n",
    "\n",
    "# Convert dates and times to proper types\n",
    "for df in [cardio_workouts, weight_training_workouts, travel_days, weight_training_sets]:\n",
    "    df[DATE] = pd.to_datetime(df[DATE])\n",
    "    if DATA_DURATION in df:\n",
    "        df[DATA_DURATION] = pd.to_timedelta(df[DATA_DURATION])\n",
    "        df[DATA_DURATION] = df[DATA_DURATION].apply(lambda x: int(x.total_seconds()))\n",
    "        df.rename(columns={DATA_DURATION: DURATION}, inplace=True)\n",
    "    if NOTES in df:\n",
    "        df[NOTES] = df[NOTES].fillna(\"\")\n",
    "\n",
    "# Will be used to pad all datasets to have consistent dates\n",
    "all_dates = pd.concat([cardio_workouts[DATE], weight_training_workouts[DATE], travel_days[DATE]])\n",
    "\n",
    "# Filling in a workout type for travel days\n",
    "travel_days[WORKOUT_TYPE] = \"Travel\""
   ]
  },
  {
   "cell_type": "markdown",
   "metadata": {},
   "source": [
    "#### Transform"
   ]
  },
  {
   "cell_type": "code",
   "execution_count": null,
   "metadata": {},
   "outputs": [],
   "source": [
    "def join_with_comma(items: List[str]):\n",
    "    \"\"\"Wrapper function to join a list of strs with commas\"\"\"\n",
    "    return \",\".join(items)\n",
    "\n",
    "def det_workout_type(joined_workout_types: str):\n",
    "    \"\"\"Determines the workout type given all of the comma-joined workout types for a given day.\"\"\"\n",
    "    result = \"\"\n",
    "    for w_type in joined_workout_types.split(\",\"):\n",
    "        if not result:\n",
    "            result = w_type\n",
    "        if result and w_type != result:\n",
    "            return \"Mixed\"\n",
    "    return result\n",
    "\n",
    "# Initialize the dataframe including all dates spanning the range of the data (rest days are missing in the workout data)\n",
    "all_workouts = pd.DataFrame()\n",
    "all_workouts[DATE] = pd.date_range(all_dates.min(), all_dates.max())\n",
    "all_workouts = all_workouts.set_index(DATE)\n",
    "\n",
    "# Populate the total daily workout duration\n",
    "total_durations = pd.concat([\n",
    "    weight_training_workouts.groupby(DATE)[DURATION].agg(sum),\n",
    "    cardio_workouts.groupby(DATE)[DURATION].agg(sum),\n",
    "    travel_days.groupby(DATE)[DURATION].agg(sum),\n",
    "]).groupby(DATE).agg(sum)\n",
    "total_durations.index = pd.DatetimeIndex(total_durations.index)\n",
    "total_durations = total_durations.reindex(all_workouts.index, fill_value=0)\n",
    "all_workouts[DURATION] = total_durations\n",
    "\n",
    "# Populate the workout types (there can be more than one per day or rest days, this smooths that out)\n",
    "workout_types = pd.concat([\n",
    "    weight_training_workouts.groupby(DATE)[WORKOUT_TYPE].agg(join_with_comma),\n",
    "    cardio_workouts.groupby(DATE)[WORKOUT_TYPE].agg(join_with_comma),\n",
    "    travel_days.groupby(DATE)[WORKOUT_TYPE].agg(join_with_comma),\n",
    "]).groupby(DATE).agg(join_with_comma)\n",
    "workout_types = workout_types.apply(det_workout_type)\n",
    "workout_types.index = pd.DatetimeIndex(workout_types.index)\n",
    "workout_types = workout_types.reindex(all_workouts.index, fill_value=\"Rest Day\")\n",
    "all_workouts[WORKOUT_TYPE] = workout_types\n",
    "del workout_types"
   ]
  },
  {
   "cell_type": "markdown",
   "metadata": {},
   "source": [
    "#### Compute Trends"
   ]
  },
  {
   "cell_type": "code",
   "execution_count": null,
   "metadata": {},
   "outputs": [],
   "source": [
    "# n-day average over a week gives a sense of if I'm keeping above a relatively low baseline of 150 minutes/week\n",
    "N_DAYS_TO_AVG = 7\n",
    "n_day_avg_workout_duration = uniform_filter1d(all_workouts[DURATION], size=N_DAYS_TO_AVG)\n",
    "\n",
    "# TODO Compute other trends:\n",
    "# * linear regression on weight (first that data needs to be imported of course)\n",
    "# * logarithmic trendline on resting heartrate (also after importing this data)"
   ]
  },
  {
   "cell_type": "markdown",
   "metadata": {},
   "source": [
    "#### Build Visuals"
   ]
  },
  {
   "cell_type": "code",
   "execution_count": null,
   "metadata": {
    "scrolled": true
   },
   "outputs": [],
   "source": [
    "# TODO Build at least these visuals:\n",
    "# * Weight (plotted w/ linear regression trendline)\n",
    "# * Resting heartrate (plotted w/ logarithmic trendline)\n",
    "# * Workout frequency (plotted w/ N day running average)\n",
    "# * Strength Metrics (PB + 10-rep; format TBD, likely better as two separate graphs or perhaps grouped by workout)\n",
    "#    - Ideally: drop-down menu to select between various workouts, each plots its PB and 10-rep over time\n",
    "# * Walking data (max distance, max elevation gain, max duration, pace graph)"
   ]
  },
  {
   "cell_type": "code",
   "execution_count": null,
   "metadata": {},
   "outputs": [],
   "source": []
  }
 ],
 "metadata": {
  "kernelspec": {
   "display_name": "Python 3",
   "language": "python",
   "name": "python3"
  },
  "language_info": {
   "codemirror_mode": {
    "name": "ipython",
    "version": 3
   },
   "file_extension": ".py",
   "mimetype": "text/x-python",
   "name": "python",
   "nbconvert_exporter": "python",
   "pygments_lexer": "ipython3",
   "version": "3.6.6"
  }
 },
 "nbformat": 4,
 "nbformat_minor": 4
}
