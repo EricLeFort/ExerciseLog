{
 "cells": [
  {
   "cell_type": "markdown",
   "metadata": {},
   "source": [
    "### Purpose\n",
    "\n",
    "The intent of this notebook is to serve as a rapid testing ground for new utilities. Any logic written here should migrate to the src/ directory as proper functions."
   ]
  },
  {
   "cell_type": "markdown",
   "metadata": {},
   "source": [
    "#### Import and Constants"
   ]
  },
  {
   "cell_type": "code",
   "execution_count": null,
   "metadata": {},
   "outputs": [],
   "source": [
    "import numpy as np\n",
    "\n",
    "# Importing from the local code structure\n",
    "import os\n",
    "import sys\n",
    "module_path = os.path.abspath(os.path.join(\"..\", \"src\"))\n",
    "sys.path.append(module_path)\n",
    "from exercise_log.constants import *\n",
    "from exercise_log.dataloader import DataLoader\n",
    "from exercise_log.trend import Trendsetter\n",
    "from exercise_log.utils import convert_mins_to_hour_mins, convert_pd_to_np, join_with_comma\n",
    "from exercise_log.vis import plot_resting_heart_rate, plot_strength_over_time, plot_weight, plot_workout_frequency"
   ]
  },
  {
   "cell_type": "markdown",
   "metadata": {},
   "source": [
    "#### Load Data and Compute Trends"
   ]
  },
  {
   "cell_type": "code",
   "execution_count": null,
   "metadata": {},
   "outputs": [],
   "source": [
    "health_metrics = DataLoader.load_health_metrics()\n",
    "travel_days = DataLoader.load_travel_days()\n",
    "cardio_workouts = DataLoader.load_cardio_workouts()\n",
    "weight_training_workouts = DataLoader.load_weight_training_workouts()\n",
    "weight_training_sets = DataLoader.load_weight_training_sets()\n",
    "all_workouts = DataLoader.load_all_workouts(cardio_workouts, weight_training_workouts, travel_days)\n",
    "\n",
    "EXTRAPOLATE_DAYS = 100\n",
    "N_DAYS_TO_AVG = 8\n",
    "\n",
    "# n-day average over a week gives a sense of if I'm keeping above a relatively low baseline of 150 minutes/week\n",
    "n_day_avg_workout_duration = Trendsetter.compute_n_sample_avg(all_workouts, DURATION, N_DAYS_TO_AVG)\n",
    "\n",
    "# Fit relevant trendlines\n",
    "weight_trendline = Trendsetter.fit_linear(health_metrics, WEIGHT, EXTRAPOLATE_DAYS)\n",
    "heart_rate_trendline = Trendsetter.fit_logarithmic(health_metrics, RESTING_HEART_RATE, EXTRAPOLATE_DAYS)"
   ]
  },
  {
   "cell_type": "markdown",
   "metadata": {},
   "source": [
    "#### Build Visuals"
   ]
  },
  {
   "cell_type": "code",
   "execution_count": null,
   "metadata": {
    "scrolled": false
   },
   "outputs": [],
   "source": [
    "# TODO Still need to build at least these visuals:\n",
    "# * Walking data (max distance, max elevation gain, max duration, pace graph)\n",
    "# * Strength Metrics grouped by workout\n",
    "#    - Ideally: drop-down menu to select between various workouts\n",
    "\n",
    "plot_workout_frequency(all_workouts, n_day_avg_workout_duration, N_DAYS_TO_AVG)\n",
    "plot_resting_heart_rate(all_workouts, health_metrics, heart_rate_trendline, EXTRAPOLATE_DAYS)\n",
    "plot_weight(all_workouts, health_metrics, weight_trendline, EXTRAPOLATE_DAYS)\n",
    "\n",
    "for exercise in weight_training_sets[EXERCISE].unique():\n",
    "    print(f\"Plotting {exercise}... \", end=\"\")\n",
    "    plot_strength_over_time(all_workouts, weight_training_sets, exercise)\n",
    "    print(f\"done.\")\n",
    "\n",
    "# TODO [Workout frequency graph]\n",
    "# Change colour of rest days to red or orange and MAYBE also color-code cardio vs weights\n",
    "# Another idea would be generating sub-graphs for each step of the hierarchy. E.g.\n",
    "# All -> Cardio -> Walk\n",
    "# All -> Weight -> Chest (per muscle group, not pairs, bc I don't want to marry the visuals to the current splits)"
   ]
  },
  {
   "cell_type": "markdown",
   "metadata": {},
   "source": [
    "#### Misc. Metrics"
   ]
  },
  {
   "cell_type": "code",
   "execution_count": null,
   "metadata": {},
   "outputs": [],
   "source": [
    "walk_workouts = cardio_workouts[cardio_workouts[WORKOUT_TYPE].isin({WALK_TREADMILL, WALK_OUTDOOR})]\n",
    "distance_walked = round(walk_workouts[DISTANCE].to_numpy().sum())\n",
    "avg_distance = np.average(walk_workouts[DISTANCE].to_numpy())\n",
    "farthest = walk_workouts[DISTANCE].to_numpy().max()\n",
    "avg_duration = round(np.average(walk_workouts[DURATION].to_numpy()))\n",
    "avg_pace = np.average(walk_workouts[PACE].to_numpy())\n",
    "fastest_pace = walk_workouts[PACE].to_numpy().max()\n",
    "avg_duration_str = convert_mins_to_hour_mins(avg_duration // 60)\n",
    "print(\"Walking Metrics\")\n",
    "print(\"Average distance: {:.2f}km\".format(avg_distance))\n",
    "print(f\"Farthest distance: {farthest}km\")\n",
    "print(f\"Total distance: {distance_walked}km\")\n",
    "print(f\"Average duration: {avg_duration_str}\")\n",
    "print(\"Average pace (m/s): {:.2f}\".format(avg_pace))\n",
    "print(\"Fastest pace (m/s): {:.2f}\".format(fastest_pace))\n",
    "\n",
    "bike_workouts = cardio_workouts[cardio_workouts[WORKOUT_TYPE] == BIKE_STATIONARY]\n",
    "distance_biked = round(bike_workouts[DISTANCE].to_numpy().sum())\n",
    "print()\n",
    "print(\"Biking Metrics\")\n",
    "print(f\"Total distance: {distance_biked}km\")\n",
    "\n",
    "distance_travelled = distance_walked + distance_biked\n",
    "print()\n",
    "print(\"Summary Metrics\")\n",
    "print(f\"Total distance travelled: {distance_travelled}km\")"
   ]
  }
 ],
 "metadata": {
  "kernelspec": {
   "display_name": "Python 3",
   "language": "python",
   "name": "python3"
  },
  "language_info": {
   "codemirror_mode": {
    "name": "ipython",
    "version": 3
   },
   "file_extension": ".py",
   "mimetype": "text/x-python",
   "name": "python",
   "nbconvert_exporter": "python",
   "pygments_lexer": "ipython3",
   "version": "3.6.6"
  }
 },
 "nbformat": 4,
 "nbformat_minor": 4
}
