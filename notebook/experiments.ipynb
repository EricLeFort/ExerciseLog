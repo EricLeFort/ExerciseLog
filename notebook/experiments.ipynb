{
 "cells": [
  {
   "cell_type": "markdown",
   "metadata": {},
   "source": [
    "### Purpose\n",
    "\n",
    "The intent of this notebook is to serve as a rapid testing ground for new utilities. Any logic written here should migrate to the src/ directory as proper functions."
   ]
  },
  {
   "cell_type": "markdown",
   "metadata": {},
   "source": [
    "#### Import and Constants"
   ]
  },
  {
   "cell_type": "code",
   "execution_count": null,
   "metadata": {},
   "outputs": [],
   "source": [
    "import numpy as np\n",
    "from pandas.core.generic import NDFrame\n",
    "\n",
    "# Importing from the local code structure\n",
    "import os\n",
    "import sys\n",
    "module_path = os.path.abspath(os.path.join(\"..\", \"src\"))\n",
    "sys.path.append(module_path)\n",
    "from exercise_log.constants import *\n",
    "from exercise_log.dataloader import DataLoader\n",
    "from exercise_log.strength import Exercise\n",
    "from exercise_log.trend import Trendsetter\n",
    "from exercise_log.utils import TermColour, convert_mins_to_hour_mins\n",
    "from exercise_log.vis import plot_resting_heart_rate, plot_strength_over_time, plot_weight, plot_workout_frequency"
   ]
  },
  {
   "cell_type": "markdown",
   "metadata": {},
   "source": [
    "#### Load Data and Compute Trends"
   ]
  },
  {
   "cell_type": "code",
   "execution_count": null,
   "metadata": {},
   "outputs": [],
   "source": [
    "EXTRAPOLATE_DAYS = 100\n",
    "N_DAYS_TO_AVG = 8\n",
    "ROOT_DATA_DIR = \"../data\"\n",
    "ROOT_IMG_DIR = \"../img\"\n",
    "\n",
    "health_metrics = DataLoader.load_health_metrics(ROOT_DATA_DIR)\n",
    "travel_days = DataLoader.load_travel_days(ROOT_DATA_DIR)\n",
    "cardio_workouts = DataLoader.load_cardio_workouts(ROOT_DATA_DIR)\n",
    "weight_training_workouts = DataLoader.load_weight_training_workouts(ROOT_DATA_DIR)\n",
    "weight_training_sets = DataLoader.load_weight_training_sets(ROOT_DATA_DIR)\n",
    "all_workouts = DataLoader.load_all_workouts(cardio_workouts, weight_training_workouts, travel_days)\n",
    "\n",
    "# n-day average over a week gives a sense of if I'm keeping above a relatively low baseline of 150 minutes/week\n",
    "n_day_avg_workout_duration = Trendsetter.compute_n_sample_avg(all_workouts, DURATION, N_DAYS_TO_AVG)\n",
    "\n",
    "# Fit relevant trendlines\n",
    "weight_trendline = Trendsetter.get_line_of_best_fit(health_metrics, WEIGHT, EXTRAPOLATE_DAYS)\n",
    "heart_rate_trendline = Trendsetter.get_logarithmic_curve_of_best_fit(health_metrics, RESTING_HEART_RATE, EXTRAPOLATE_DAYS)"
   ]
  },
  {
   "cell_type": "code",
   "execution_count": null,
   "metadata": {},
   "outputs": [],
   "source": [
    "nonnulls = health_metrics[health_metrics[WEIGHT].notnull()]\n",
    "avg_daily_weightloss = Trendsetter.fit_linear(nonnulls, WEIGHT)[0]\n",
    "print(\"Average daily change in weight: {:.2f} lb\".format(avg_daily_weightloss))"
   ]
  },
  {
   "cell_type": "markdown",
   "metadata": {},
   "source": [
    "#### Recent Cardio Workouts"
   ]
  },
  {
   "cell_type": "code",
   "execution_count": null,
   "metadata": {},
   "outputs": [],
   "source": [
    "%%html\n",
    "<style>.dataframe th { font-size: 10px; } .dataframe td { font-size: 10px; }</style>"
   ]
  },
  {
   "cell_type": "code",
   "execution_count": null,
   "metadata": {},
   "outputs": [],
   "source": [
    "walk_workouts = cardio_workouts[cardio_workouts[WORKOUT_TYPE].isin({WALK_TREADMILL, WALK_OUTDOOR})].copy()\n",
    "run_workouts = cardio_workouts[cardio_workouts[WORKOUT_TYPE].isin({RUN_TREADMILL})].copy()\n",
    "bike_workouts = cardio_workouts[cardio_workouts[WORKOUT_TYPE].isin({BIKE_STATIONARY})].copy()\n",
    "del bike_workouts[STEPS]\n",
    "del bike_workouts[ELEVATION]\n",
    "\n",
    "DataLoader.add_computed_cardio_metrics(walk_workouts)\n",
    "DataLoader.add_computed_cardio_metrics(run_workouts)\n",
    "display(walk_workouts[-10:])\n",
    "display(run_workouts[-10:])\n",
    "display(bike_workouts[-10:])"
   ]
  },
  {
   "cell_type": "markdown",
   "metadata": {},
   "source": [
    "#### Build Visuals"
   ]
  },
  {
   "cell_type": "code",
   "execution_count": null,
   "metadata": {
    "scrolled": false
   },
   "outputs": [],
   "source": [
    "# TODO Still need to build at least these visuals:\n",
    "# * Walking data (max distance, max elevation gain, max duration, pace graph)\n",
    "# * Strength Metrics grouped by workout\n",
    "#    - Ideally: drop-down menu to select between various workouts\n",
    "#    - Need to fine-tune some, remove ones that don't make sense (e.g. that have < 3 days worked)\n",
    "plot_workout_frequency(all_workouts, n_day_avg_workout_duration, N_DAYS_TO_AVG)\n",
    "plot_resting_heart_rate(all_workouts, health_metrics, heart_rate_trendline, EXTRAPOLATE_DAYS)\n",
    "plot_weight(all_workouts, health_metrics, weight_trendline, EXTRAPOLATE_DAYS)\n",
    "\n",
    "# TODO [Workout frequency graph]\n",
    "# Change colour of rest days to red or orange and MAYBE also color-code cardio vs weights\n",
    "# Another idea would be generating sub-graphs for each step of the hierarchy. E.g.\n",
    "# All -> Cardio -> Walk\n",
    "# All -> Weight -> Chest (per muscle group, not pairs, bc I don't want to marry the visuals to the current splits)"
   ]
  },
  {
   "cell_type": "markdown",
   "metadata": {},
   "source": [
    "#### Misc. Metrics"
   ]
  },
  {
   "cell_type": "code",
   "execution_count": null,
   "metadata": {},
   "outputs": [],
   "source": [
    "# Construct a full-picture set of functional fitness metrics\n",
    "# Will also need to work out a decent way to track progress across so many different metrics, e.g.:\n",
    "#   - compute and graph aggregate metrics over time\n",
    "#   - interface that allows drilling-in per-metric and/or group of metrics (e.g. arm strength, walking metrics, etc.)\n",
    "# Include: \n",
    "#   -  Major strength metrics: 1RM deadlift, squat, bench press, strict press\n",
    "#   2. Cardio metrics:\n",
    "#        Walking: 1km time, 5km time, 1000ft climb time, max 1-min walking pace\n",
    "#        Running: 100m sprint, 1 mile time, 5km time, half-marathon time, marathon time, maximum duration\n",
    "#        Swimming: 400m freestyle time?, 1000m freestyle time?\n",
    "#        Cardio Health: 2-week average resting heart rate, V02 Max\n",
    "#   3. Calisthenic metrics: max consecutive push-ups, pull-ups, burpees; static hang duration, vertical leap?\n",
    "#   4. Minor strength metrics:\n",
    "#        Chest: N/A\n",
    "#        Arms: 1RM overhead tricep extension, preacher curl\n",
    "#        Legs: 1RM leg curl, leg extension, seated calf raise\n",
    "#        Back: 1RM lawnmowers, lat pulldown\n",
    "#        Shoulder: 1RM arnold press\n",
    "#        Forearms: grip strength\n",
    "#   5. Imbalance measures:\n",
    "#        Single-arm/leg bicep curl, overhead tricep extension, leg curl, leg extension, etc. vs two-arm/leg\n",
    "#          Ideally two-arm/leg should be within a few % of 2 * single-arm/leg\n",
    "#        Relative strength scores\n",
    "#          within region (e.g. tricep vs. bicep, quads vs. hamstring, back vs. chest)\n",
    "#          global (e.g. detect outliers such as \"weak triceps\", compute some total imbalance score)\n",
    "#   6. Detailed Training Frequency Info\n",
    "#        Percentage + absolute volume/time of {weight training, calisthenics, cardio}\n",
    "#        Optionally: include a drill down on compound lifts, isolated lifts, muscle groups, cardio types\n",
    "#        Optionally: include prescriptive piece to offer a few recommendations for the next workout (e.g. cardio of type X or weight training of type X with a focus on {low, mid, high} reps)\n",
    "def get_1rm(sets: NDFrame, exercise: str) -> Union[number, str]:\n",
    "    sets = sets[sets[EXERCISE] == exercise]\n",
    "    sets = sets[sets[REPS] == 1]\n",
    "    if sets.empty:\n",
    "        return \"Missing Data\"\n",
    "    return sets[WEIGHT].max()\n",
    "\n",
    "# Functional Fitness Metric Group 1: Big-Three 1-RM\n",
    "# TODO modify 1RM to only check sets from the past N-months (3 months maybe?)\n",
    "one_rm = dict()\n",
    "for exercise in [Exercise.DEADLIFT, Exercise.SQUATS, Exercise.BENCH_PRESS, Exercise.STRICT_PRESS]:\n",
    "    one_rm[exercise] = get_1rm(weight_training_sets, exercise)\n",
    "    print(f\"1-RM {exercise}: {int(one_rm[exercise])}\")\n",
    "print(f'Big-Three Combined Weight: {int(one_rm[Exercise.DEADLIFT] + one_rm[Exercise.SQUATS] + one_rm[Exercise.BENCH_PRESS])}')\n",
    "\n",
    "# Functional Fitness Metric Group 4: Minor Strength Metrics\n",
    "# TODO same two TODO's as Group 1\n",
    "print()\n",
    "for exercise in [\n",
    "    Exercise.OVERHEAD_TRICEP_EXTENSION, Exercise.PREACHER_CURL,\n",
    "    Exercise.SINGLE_LEG_LEG_CURL, Exercise.SINGLE_LEG_LEG_EXTENSION, Exercise.BARBELL_CALF_RAISE,\n",
    "    Exercise.LAWNMOWERS, Exercise.LAT_PULLDOWN,\n",
    "    Exercise.ARNOLD_PRESS,\n",
    "]:\n",
    "    one_rm[exercise] = get_1rm(weight_training_sets, exercise)\n",
    "    if one_rm[exercise] != \"Missing Data\":\n",
    "        one_rm[exercise] = int(one_rm[exercise])\n",
    "    print(f\"1-RM {exercise}: {one_rm[exercise]}\")\n",
    "\n",
    "\n",
    "distance_walked = round(walk_workouts[DISTANCE].to_numpy().sum())\n",
    "farthest = walk_workouts[DISTANCE].to_numpy().max()\n",
    "fastest_pace = walk_workouts[PACE].to_numpy().max()\n",
    "print()\n",
    "print(\"Walking Metrics\")\n",
    "print(f\"Farthest distance: {farthest}km\")\n",
    "print(\"Fastest pace (m/s): {:.2f}\".format(fastest_pace))\n",
    "print(f\"Total distance: {distance_walked}km\")\n",
    "\n",
    "distance_biked = round(bike_workouts[DISTANCE].to_numpy().sum())\n",
    "print()\n",
    "print(\"Biking Metrics\")\n",
    "print(f\"Total distance: {distance_biked}km\")\n",
    "\n",
    "distance_travelled = distance_walked + distance_biked\n",
    "print()\n",
    "print(\"Summary Metrics\")\n",
    "print(f\"Total distance travelled: {distance_travelled}km\")"
   ]
  },
  {
   "cell_type": "code",
   "execution_count": null,
   "metadata": {},
   "outputs": [],
   "source": []
  }
 ],
 "metadata": {
  "kernelspec": {
   "display_name": "Python 3",
   "language": "python",
   "name": "python3"
  },
  "language_info": {
   "codemirror_mode": {
    "name": "ipython",
    "version": 3
   },
   "file_extension": ".py",
   "mimetype": "text/x-python",
   "name": "python",
   "nbconvert_exporter": "python",
   "pygments_lexer": "ipython3",
   "version": "3.6.6"
  }
 },
 "nbformat": 4,
 "nbformat_minor": 4
}
