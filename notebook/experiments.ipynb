{
 "cells": [
  {
   "cell_type": "markdown",
   "metadata": {},
   "source": [
    "### Purpose\n",
    "\n",
    "The intent of this notebook is to serve as a rapid testing ground for new utilities. Any logic written here should migrate to the src/ directory as proper functions."
   ]
  },
  {
   "cell_type": "markdown",
   "metadata": {},
   "source": [
    "#### Import and Constants"
   ]
  },
  {
   "cell_type": "code",
   "execution_count": null,
   "metadata": {},
   "outputs": [],
   "source": [
    "from datetime import timedelta\n",
    "\n",
    "import matplotlib.pyplot as plt\n",
    "import matplotlib.dates as mdates\n",
    "import matplotlib.ticker as ticker\n",
    "import numpy as np\n",
    "import pandas as pd\n",
    "from pandas.core.generic import NDFrame  # This is the generic type that encompasses Series and DataFrame\n",
    "\n",
    "# Importing from the local code structure\n",
    "import os\n",
    "import sys\n",
    "module_path = os.path.abspath(os.path.join(\"..\", \"src\"))\n",
    "sys.path.append(module_path)\n",
    "from exercise_log.constants import *\n",
    "from exercise_log.dataloader import DataLoader\n",
    "from exercise_log.trend import Trendsetter\n",
    "from exercise_log.utils import join_with_comma"
   ]
  },
  {
   "cell_type": "markdown",
   "metadata": {},
   "source": [
    "#### Load Data and Compute Trends"
   ]
  },
  {
   "cell_type": "code",
   "execution_count": null,
   "metadata": {},
   "outputs": [],
   "source": [
    "health_metrics = DataLoader.load_health_metrics()\n",
    "travel_days = DataLoader.load_travel_days()\n",
    "cardio_workouts = DataLoader.load_cardio_workouts()\n",
    "weight_training_workouts = DataLoader.load_weight_training_workouts()\n",
    "weight_training_sets = DataLoader.load_weight_training_sets()\n",
    "all_workouts = DataLoader.load_all_workouts(cardio_workouts, weight_training_workouts, travel_days)\n",
    "\n",
    "EXTRAPOLATE_DAYS = 100\n",
    "MIN_DAILY_ACTIVE_MINUTES = 22.5  # Weekly is 150, this is about 150/7\n",
    "N_DAYS_TO_AVG = 8\n",
    "\n",
    "# n-day average over a week gives a sense of if I'm keeping above a relatively low baseline of 150 minutes/week\n",
    "n_day_avg_workout_duration = Trendsetter.compute_n_sample_avg(all_workouts, DURATION, N_DAYS_TO_AVG)\n",
    "\n",
    "# Fit relevant trendlines\n",
    "weight_trendline = Trendsetter.fit_linear(health_metrics, WEIGHT, EXTRAPOLATE_DAYS)\n",
    "heart_rate_trendline = Trendsetter.fit_logarithmic(health_metrics, RESTING_HEART_RATE, EXTRAPOLATE_DAYS)"
   ]
  },
  {
   "cell_type": "markdown",
   "metadata": {},
   "source": [
    "### Build Visuals"
   ]
  },
  {
   "cell_type": "code",
   "execution_count": null,
   "metadata": {
    "scrolled": true
   },
   "outputs": [],
   "source": [
    "# TODO Build at least these visuals:\n",
    "# * Walking data (max distance, max elevation gain, max duration, pace graph)\n",
    "# * Strength Metrics (PB + 10-rep; format TBD, likely better as two separate graphs or perhaps grouped by workout)\n",
    "#    - Ideally: drop-down menu to select between various workouts, each plots its PB and 10-rep over time\n",
    "ABOVE_TABLE = 1.15\n",
    "\n",
    "def convert_pd_to_np(obj: NDFrame) -> np.ndarray:\n",
    "    return np.array(obj)[:, None]\n",
    "\n",
    "def convert_mins_to_hour_mins(mins: number, _ = None) -> str:\n",
    "    if mins < 60:\n",
    "        return f\"{int(mins)}m\"\n",
    "    hours, mins = int(mins // 60), int(mins % 60)\n",
    "    return f\"{hours}h {mins}m\"\n",
    "\n",
    "### Utility function, not used in main path ###\n",
    "def show_gcf_corners(plot: plt):\n",
    "    plot.gcf().text(0, 0, \"x\")\n",
    "    plot.gcf().text(1, 0, \"x\")\n",
    "    plot.gcf().text(0, 1, \"x\")\n",
    "    plot.gcf().text(1, 1, \"x\")\n",
    "\n",
    "def configure_x_axis_by_month(all_workouts: pd.DataFrame, start_padding_days: int=1, end_padding_days: int=1):\n",
    "    \"\"\"Sets the current axes x-axis to major tick by month, minor tick on Sundays, and have MMM-YYYY major labels.\"\"\"\n",
    "    ax = plt.gca()\n",
    "    ax.xaxis.set_major_locator(mdates.MonthLocator(interval=1))\n",
    "    ax.xaxis.set_major_formatter(mdates.DateFormatter('%b %Y'))\n",
    "    ax.xaxis.set_minor_locator(mdates.WeekdayLocator(byweekday=mdates.SU))\n",
    "    plt.xlim(\n",
    "        all_workouts[DATE][0] - timedelta(days=start_padding_days),\n",
    "        all_workouts[DATE].tail(1) + timedelta(days=end_padding_days)\n",
    "    )\n",
    "\n",
    "def create_legend_and_title(title: str, reverse_labels: bool=False, ncol: int=2):\n",
    "    \"\"\"Adds a legend and title centered above the current plot\"\"\"\n",
    "    plt.title(title, y=ABOVE_TABLE)\n",
    "    handles, labels = plt.gca().get_legend_handles_labels()\n",
    "    if reverse_labels:\n",
    "        handles, labels = handles[::-1], labels[::-1]\n",
    "    plt.legend(handles, labels, bbox_to_anchor=(0.5, ABOVE_TABLE), loc='upper center', frameon=False, ncol=ncol)"
   ]
  },
  {
   "cell_type": "markdown",
   "metadata": {},
   "source": [
    "#### Workout Frequency"
   ]
  },
  {
   "cell_type": "code",
   "execution_count": null,
   "metadata": {
    "scrolled": false
   },
   "outputs": [],
   "source": [
    "RIGHT_OF_AXIS_X_COORD = 0.92\n",
    "NON_GRAPH_GCF_PERCENT = 0.06\n",
    "\n",
    "# Draw the main graph contents and setup the axes\n",
    "workout_durations_mins = all_workouts[DURATION] // 60\n",
    "plt.scatter(\n",
    "    all_workouts[DATE],\n",
    "    workout_durations_mins,\n",
    "    s=5,\n",
    "    label=\"Workout Duration\",\n",
    ")\n",
    "plt.plot(\n",
    "    convert_pd_to_np(all_workouts[DATE]),\n",
    "    convert_pd_to_np(n_day_avg_workout_duration // 60),\n",
    "    label=f\"{N_DAYS_TO_AVG}-Day Avg Daily Duration\",\n",
    ")\n",
    "\n",
    "# Delineate the ideal minimum daily exercise threshold as a horizontal reference line\n",
    "plt.axhline(y=MIN_DAILY_ACTIVE_MINUTES, color='r', linestyle='-')\n",
    "y_percent_min_daily_active = MIN_DAILY_ACTIVE_MINUTES / max(workout_durations_mins)\n",
    "y_pos = y_percent_min_daily_active + NON_GRAPH_GCF_PERCENT\n",
    "plt.gcf().text(RIGHT_OF_AXIS_X_COORD, y_pos, \"Target\\nMinimum\")\n",
    "\n",
    "# Set up axes\n",
    "ax = plt.gca()\n",
    "configure_x_axis_by_month(all_workouts)\n",
    "ax.yaxis.set_major_formatter(ticker.FuncFormatter(convert_mins_to_hour_mins))\n",
    "ax.yaxis.set_minor_locator(ticker.MultipleLocator(5))\n",
    "plt.grid(visible=True)\n",
    "plt.grid(visible=True, which=\"minor\", linestyle=\"--\", linewidth=\"0.25\")\n",
    "\n",
    "# Add in the surrounding information\n",
    "ABOVE_TABLE = 1.15\n",
    "create_legend_and_title(\"Workout Frequency\", reverse_labels=True)\n",
    "plt.savefig('../img/workout_frequency.png', bbox_inches=\"tight\")\n",
    "plt.show()\n",
    "\n",
    "# TODO change colour of rest days to red or orange and MAYBE also color-code cardio vs weights\n",
    "# Another idea would be generating sub-graphs for each step of the hierarchy. E.g.\n",
    "# All -> Cardio -> Walk\n",
    "# All -> Weight -> Chest (per muscle group, not pairs, bc I don't want to marry the visuals to the current splits)"
   ]
  },
  {
   "cell_type": "markdown",
   "metadata": {},
   "source": [
    "#### Resting Heart Rate"
   ]
  },
  {
   "cell_type": "code",
   "execution_count": null,
   "metadata": {},
   "outputs": [],
   "source": [
    "Y_MIN, Y_MAX = 45, 90\n",
    "BOTTOM_OFFSET = 0.11\n",
    "NON_GRAPH_AREA_SCALER = 1.3\n",
    "\n",
    "def get_padded_dates(df: pd.DataFrame, num_days_to_pad: int):\n",
    "    \"\"\"Pads the dates \"\"\"\n",
    "    first_index = df.index[0]\n",
    "    periods = df.shape[0] + num_days_to_pad\n",
    "    padded_dates = pd.date_range(df.iloc[0][DATE], periods=periods, freq='1d')\n",
    "    padded_dates = padded_dates.to_series(name=DATE).reset_index(drop=True)\n",
    "    padded_dates.index = pd.RangeIndex(start=first_index, stop=first_index + periods)\n",
    "    return padded_dates\n",
    "\n",
    "nonnull_heart_rates = health_metrics[health_metrics[RESTING_HEART_RATE].notnull()]\n",
    "padded_dates = get_padded_dates(nonnull_heart_rates, EXTRAPOLATE_DAYS)\n",
    "plt.scatter(\n",
    "    nonnull_heart_rates[DATE].to_numpy(),\n",
    "    nonnull_heart_rates[RESTING_HEART_RATE].to_numpy(),\n",
    "    s=5,\n",
    "    label=\"Resting HR\"\n",
    ")\n",
    "plt.plot(\n",
    "    padded_dates.to_numpy(),\n",
    "    heart_rate_trendline,\n",
    "    linestyle=\"--\",\n",
    "    label=\"Projected Resting HR\"\n",
    ")\n",
    "\n",
    "# Delineate various resting heart rate levels as horizontal reference lines\n",
    "resting_heart_rate_levels = {\n",
    "    \"Average\": 72,\n",
    "    \"Above Average\": 68,\n",
    "    \"Good\": 63,\n",
    "    \"Excellent\": 58,\n",
    "    \"Athlete\": 50,\n",
    "}\n",
    "for text, hr in resting_heart_rate_levels.items():\n",
    "    plt.axhline(y=hr, color='k', linestyle='--', linewidth=\"0.75\")\n",
    "    y_range = Y_MAX - Y_MIN\n",
    "    y_pos = BOTTOM_OFFSET + (hr - Y_MIN) / (NON_GRAPH_AREA_SCALER*y_range)\n",
    "    plt.gcf().text(RIGHT_OF_AXIS_X_COORD, y_pos, text)\n",
    "\n",
    "# Set up axes\n",
    "ax = plt.gca()\n",
    "configure_x_axis_by_month(all_workouts, end_padding_days=EXTRAPOLATE_DAYS)\n",
    "ax.yaxis.set_minor_locator(ticker.MultipleLocator(1))\n",
    "ax.set_ylim([Y_MIN, Y_MAX])\n",
    "plt.grid(visible=True)\n",
    "plt.grid(visible=True, which=\"minor\", linestyle=\"--\", linewidth=\"0.25\")\n",
    "\n",
    "# Add in the surrounding information\n",
    "create_legend_and_title(\"Resting Heart Rate\", reverse_labels=True)\n",
    "plt.savefig('../img/resting_heart_rate.png', bbox_inches=\"tight\")\n",
    "plt.show()"
   ]
  },
  {
   "cell_type": "markdown",
   "metadata": {},
   "source": [
    "#### Weight"
   ]
  },
  {
   "cell_type": "code",
   "execution_count": null,
   "metadata": {},
   "outputs": [],
   "source": [
    "Y_MIN, Y_MAX = 180, 300\n",
    "\n",
    "nonnull_weights = health_metrics[health_metrics[WEIGHT].notnull()]\n",
    "padded_dates = get_padded_dates(nonnull_weights, EXTRAPOLATE_DAYS)\n",
    "plt.scatter(\n",
    "    nonnull_weights[DATE].to_numpy(),\n",
    "    nonnull_weights[WEIGHT].to_numpy(),\n",
    "    s=5,\n",
    "    label=\"Weight\"\n",
    ")\n",
    "plt.plot(\n",
    "    padded_dates.to_numpy(),\n",
    "    weight_trendline,\n",
    "    linestyle=\"--\",\n",
    "    label=\"Projected Weight\"\n",
    ")\n",
    "\n",
    "# Delineate various resting heart rate levels as horizontal reference lines\n",
    "weight_levels = {\n",
    "    \"Healthy\": 250,\n",
    "    \"Target\": 200,\n",
    "}\n",
    "for text, weight in weight_levels.items():\n",
    "    plt.axhline(y=weight, color='k', linestyle='--', linewidth=\"0.75\")\n",
    "    y_range = Y_MAX - Y_MIN\n",
    "    y_pos = BOTTOM_OFFSET + (weight - Y_MIN) / (NON_GRAPH_AREA_SCALER*y_range)\n",
    "    plt.gcf().text(RIGHT_OF_AXIS_X_COORD, y_pos, text)\n",
    "\n",
    "# Set up axes\n",
    "ax = plt.gca()\n",
    "configure_x_axis_by_month(all_workouts, end_padding_days=EXTRAPOLATE_DAYS)\n",
    "ax.yaxis.set_minor_locator(ticker.MultipleLocator(5))\n",
    "ax.set_ylim([Y_MIN, Y_MAX])\n",
    "plt.grid(visible=True)\n",
    "plt.grid(visible=True, which=\"minor\", linestyle=\"--\", linewidth=\"0.25\")\n",
    "\n",
    "# Add in the surrounding information\n",
    "create_legend_and_title(\"Weight\", reverse_labels=True)\n",
    "plt.savefig('../img/weight.png', bbox_inches=\"tight\")\n",
    "plt.show()"
   ]
  },
  {
   "cell_type": "code",
   "execution_count": null,
   "metadata": {},
   "outputs": [],
   "source": [
    "walk_workouts = cardio_workouts[cardio_workouts[WORKOUT_TYPE].isin({WALK_TREADMILL, WALK_OUTDOOR})]\n",
    "distance_walked = round(walk_workouts[DISTANCE].to_numpy().sum())\n",
    "avg_distance = np.average(walk_workouts[DISTANCE].to_numpy())\n",
    "farthest = walk_workouts[DISTANCE].to_numpy().max()\n",
    "avg_duration = round(np.average(walk_workouts[DURATION].to_numpy()))\n",
    "avg_pace = np.average(walk_workouts[PACE].to_numpy())\n",
    "fastest_pace = walk_workouts[PACE].to_numpy().max()\n",
    "avg_duration_str = convert_mins_to_hour_mins(avg_duration // 60)\n",
    "print(\"Walking Metrics\")\n",
    "print(\"Average distance: {:.2f}km\".format(avg_distance))\n",
    "print(f\"Farthest distance: {farthest}km\")\n",
    "print(f\"Total distance: {distance_walked}km\")\n",
    "print(f\"Average duration: {avg_duration_str}\")\n",
    "print(\"Average pace (m/s): {:.2f}\".format(avg_pace))\n",
    "print(\"Fastest pace (m/s): {:.2f}\".format(fastest_pace))\n",
    "\n",
    "bike_workouts = cardio_workouts[cardio_workouts[WORKOUT_TYPE] == BIKE_STATIONARY]\n",
    "distance_biked = round(bike_workouts[DISTANCE].to_numpy().sum())\n",
    "print()\n",
    "print(\"Biking Metrics\")\n",
    "print(f\"Total distance: {distance_biked}km\")\n",
    "\n",
    "distance_travelled = distance_walked + distance_biked\n",
    "print()\n",
    "print(\"Summary Metrics\")\n",
    "print(f\"Total distance travelled: {distance_travelled}km\")"
   ]
  },
  {
   "cell_type": "code",
   "execution_count": null,
   "metadata": {},
   "outputs": [],
   "source": []
  }
 ],
 "metadata": {
  "kernelspec": {
   "display_name": "Python 3",
   "language": "python",
   "name": "python3"
  },
  "language_info": {
   "codemirror_mode": {
    "name": "ipython",
    "version": 3
   },
   "file_extension": ".py",
   "mimetype": "text/x-python",
   "name": "python",
   "nbconvert_exporter": "python",
   "pygments_lexer": "ipython3",
   "version": "3.6.6"
  }
 },
 "nbformat": 4,
 "nbformat_minor": 4
}
